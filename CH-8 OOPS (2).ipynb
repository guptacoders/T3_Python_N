{
 "cells": [
  {
   "cell_type": "markdown",
   "metadata": {},
   "source": [
    "# CH-8 OOPS"
   ]
  },
  {
   "cell_type": "code",
   "execution_count": 1,
   "metadata": {},
   "outputs": [
    {
     "name": "stdout",
     "output_type": "stream",
     "text": [
      "LJ INSTITUTE\n",
      "Neel\n",
      "19\n",
      "Male\n",
      "--------------------\n",
      "Name: KIA\n",
      "Age: 45\n",
      "Gender: Male\n"
     ]
    }
   ],
   "source": [
    "class Human:\n",
    "    species=\"LJ INSTITUTE\"\n",
    "    def __init__(self,name,age,gender):\n",
    "        self.name=name\n",
    "        self.age=age\n",
    "        self.gender=gender\n",
    "    def display(self):\n",
    "        print(\"Name:\",self.name)\n",
    "        print(\"Age:\",self.age)\n",
    "        print(\"Gender:\",self.gender)\n",
    "    def speak(self):\n",
    "        print(\"I can Speak\",self.name)\n",
    "    def eat(self,fav_dish):\n",
    "        print(\"I Love To eat:\",fav_dish)\n",
    "\n",
    "x=Human(\"Neel\",19,\"Male\")\n",
    "print(x.species)\n",
    "print(x.name)\n",
    "print(x.age)\n",
    "print(x.gender)\n",
    "print(\"-\"*20)\n",
    "\n",
    "z=Human(\"KIA\",45,\"Male\")\n",
    "z.display()"
   ]
  },
  {
   "cell_type": "code",
   "execution_count": 2,
   "metadata": {},
   "outputs": [
    {
     "name": "stdout",
     "output_type": "stream",
     "text": [
      "LJ INSTITUTE\n",
      "Ishan\n",
      "20\n",
      "Male\n"
     ]
    }
   ],
   "source": [
    "y=Human(\"Ishan\",20,\"Male\")\n",
    "print(y.species)\n",
    "print(y.name)\n",
    "print(y.age)\n",
    "print(y.gender)"
   ]
  },
  {
   "cell_type": "code",
   "execution_count": 3,
   "metadata": {},
   "outputs": [
    {
     "name": "stdout",
     "output_type": "stream",
     "text": [
      "Name: KIA\n",
      "Age: 45\n",
      "Gender: Male\n"
     ]
    }
   ],
   "source": [
    "z=Human(\"KIA\",45,\"Male\")\n",
    "z.display()"
   ]
  },
  {
   "cell_type": "code",
   "execution_count": 4,
   "metadata": {},
   "outputs": [
    {
     "name": "stdout",
     "output_type": "stream",
     "text": [
      "Name: Neel\n",
      "Age: 19\n",
      "Gender: Male\n",
      "I can Speak Neel\n",
      "I Love To eat: Sweets\n"
     ]
    }
   ],
   "source": [
    "X=Human(\"ABC\",18,\"M\")\n",
    "x.display()\n",
    "x.speak()\n",
    "x.eat(\"Sweets\")\n",
    "   "
   ]
  },
  {
   "cell_type": "code",
   "execution_count": 5,
   "metadata": {},
   "outputs": [
    {
     "name": "stdout",
     "output_type": "stream",
     "text": [
      "Book Name: The Witchess\n",
      "------------------------------\n",
      "Book Name: The Witchess Return\n"
     ]
    }
   ],
   "source": [
    "class Library:\n",
    "    def __init__(self,id,name):\n",
    "        self.bookid=id\n",
    "        self.bookname=name\n",
    "    def setbookname(self,newbookname):\n",
    "        self.bookname=newbookname\n",
    "    def getbookname(self):\n",
    "        print(\"Book Name:\",self.bookname)\n",
    "        \n",
    "a=Library(10,\"The Witchess\")\n",
    "a.getbookname()\n",
    "print(\"-\"*30)\n",
    "a.setbookname(\"The Witchess Return\")\n",
    "a.getbookname()"
   ]
  },
  {
   "cell_type": "code",
   "execution_count": 10,
   "metadata": {},
   "outputs": [
    {
     "name": "stdout",
     "output_type": "stream",
     "text": [
      "Enter Marks:21\n",
      "Enter Marks:22\n",
      "Enter Marks:23\n",
      "Student Name: Neel\n",
      "Student Id: 1\n",
      "Total: 66\n"
     ]
    }
   ],
   "source": [
    "# wap to using class to store marks of student  use list to store marks of 3 subject also return total marks of 3 subject\n",
    "class Student:\n",
    "    def __init__(self,id,name):\n",
    "        self.stdid=id\n",
    "        self.stdname=name\n",
    "        self.marks=[]\n",
    "    def entermarks(self):\n",
    "        for i in range(3):\n",
    "            m=int(input(\"Enter Marks:\"))\n",
    "            self.marks.append(m)\n",
    "    def total(self):\n",
    "        return sum(self.marks)\n",
    "    def display(self):\n",
    "        print(\"Student Name:\",self.stdname)\n",
    "        print(\"Student Id:\",self.stdid)\n",
    "        print(\"Total:\",self.total())\n",
    "       # print(\"\",self.stdname,self.stdid,\"Total=\",self.total())\n",
    "        \n",
    "std1=Student(1,\"Neel\")\n",
    "std1.entermarks()\n",
    "std1.display()"
   ]
  },
  {
   "cell_type": "code",
   "execution_count": 17,
   "metadata": {},
   "outputs": [
    {
     "name": "stdout",
     "output_type": "stream",
     "text": [
      "Account No: 70\n",
      "name: Neel\n",
      "Balance: 3325.0\n"
     ]
    }
   ],
   "source": [
    "#WAP USING CLASS FOR BANK MANAGEMENT SYSTEM \n",
    "#STEP 1 CREATE PY CLASS CALLED ABNKACCOUNT WHICH HAS ATTRIBUTES ACNUBER AND NAME AND BALANCE \n",
    "# CREATE DEPOSIT METHOD WHICH MANAGE THE DEPOSIT ACTION CREATE A WITHROWAL METHOD WHICH MANAGES WITHDRAWAL ACIONS\n",
    "#CREATE A BANK FEES METHOD TO APPLY THE BANK FEES WITH PERCENTAGE OF 5% OF THE BALANCE \n",
    "#CREATE DISPLAY METHOD  TO DISPLAY ACCOUNT DETAILS \n",
    "\n",
    "class Bankaccount:\n",
    "    def __init__(self,acnum,name,balance):\n",
    "        self.acnum=acnum\n",
    "        self.name=name\n",
    "        self.balance=balance\n",
    "        \n",
    "    def deposit(self,newbalance):\n",
    "        self.balance+=newbalance\n",
    "        \n",
    "    def withdrawal(self,amt):\n",
    "        if self.balance<amt:\n",
    "            print(\"Insuffecient Balance\")\n",
    "        else:\n",
    "            self.balance-=amt\n",
    "    \n",
    "    def bankfees(self):\n",
    "        self.balance=(95/100)*self.balance\n",
    "        \n",
    "    def display(self):\n",
    "        print(\"Account No:\",self.acnum)\n",
    "        print(\"name:\",self.name)\n",
    "        print(\"Balance:\",self.balance)\n",
    "        \n",
    "ac1=Bankaccount(70,\"Neel\",2500)\n",
    "ac1.deposit(2000)\n",
    "ac1.withdrawal(1000)\n",
    "ac1.bankfees()\n",
    "ac1.display()\n",
    "\n"
   ]
  },
  {
   "cell_type": "markdown",
   "metadata": {},
   "source": [
    "# Generator"
   ]
  },
  {
   "cell_type": "markdown",
   "metadata": {},
   "source": [
    "Function ----->   iteration -----> obj"
   ]
  },
  {
   "cell_type": "code",
   "execution_count": 6,
   "metadata": {},
   "outputs": [
    {
     "name": "stdout",
     "output_type": "stream",
     "text": [
      "1\n",
      "2\n",
      "3\n"
     ]
    }
   ],
   "source": [
    "def abc():\n",
    "    yield 1\n",
    "    yield 2\n",
    "    yield 3\n",
    "for i in abc():\n",
    "    print(i)"
   ]
  },
  {
   "cell_type": "code",
   "execution_count": 7,
   "metadata": {},
   "outputs": [
    {
     "name": "stdout",
     "output_type": "stream",
     "text": [
      "0\n",
      "2\n",
      "4\n",
      "6\n",
      "8\n"
     ]
    }
   ],
   "source": [
    "def gen_fun():\n",
    "    for i in range(10):\n",
    "        if i%2==0:\n",
    "            yield i\n",
    "            \n",
    "for i in gen_fun():\n",
    "    print(i)"
   ]
  },
  {
   "cell_type": "code",
   "execution_count": 12,
   "metadata": {},
   "outputs": [
    {
     "name": "stdout",
     "output_type": "stream",
     "text": [
      "First\n",
      "second\n",
      "three\n",
      "<generator object abc_gen at 0x000002A2D80254A0>\n"
     ]
    }
   ],
   "source": [
    "def abc_gen():\n",
    "    str1=\"First\"\n",
    "    yield str1\n",
    "    str2=\"second\"\n",
    "    yield str2\n",
    "    str3=\"three\"\n",
    "    yield str3\n",
    "obj=abc_gen()\n",
    "print(next(obj))\n",
    "print(next(obj))\n",
    "print(next(obj))\n",
    "print(obj)"
   ]
  },
  {
   "cell_type": "code",
   "execution_count": 13,
   "metadata": {},
   "outputs": [
    {
     "name": "stdout",
     "output_type": "stream",
     "text": [
      "[1, 4, 9, 16, 25]\n"
     ]
    }
   ],
   "source": [
    "l=[1,2,3,4,5]\n",
    "z=[x**2 for x in l]\n",
    "print(z)"
   ]
  },
  {
   "cell_type": "code",
   "execution_count": 16,
   "metadata": {},
   "outputs": [
    {
     "name": "stdout",
     "output_type": "stream",
     "text": [
      "<generator object <genexpr> at 0x000002A2D8025D60>\n",
      "1\n",
      "4\n",
      "9\n",
      "16\n",
      "25\n"
     ]
    }
   ],
   "source": [
    "l=[1,2,3,4,5]\n",
    "a=(x**2 for x in l)\n",
    "print(a)\n",
    "print(next(a))\n",
    "print(next(a))\n",
    "print(next(a))\n",
    "print(next(a))\n",
    "print(next(a))"
   ]
  },
  {
   "cell_type": "markdown",
   "metadata": {},
   "source": [
    "# Exception Handling"
   ]
  },
  {
   "cell_type": "code",
   "execution_count": 17,
   "metadata": {},
   "outputs": [
    {
     "ename": "ZeroDivisionError",
     "evalue": "division by zero",
     "output_type": "error",
     "traceback": [
      "\u001b[1;31m---------------------------------------------------------------------------\u001b[0m",
      "\u001b[1;31mZeroDivisionError\u001b[0m                         Traceback (most recent call last)",
      "\u001b[1;32m<ipython-input-17-7e911028ac33>\u001b[0m in \u001b[0;36m<module>\u001b[1;34m\u001b[0m\n\u001b[0;32m      1\u001b[0m \u001b[1;32mdef\u001b[0m \u001b[0mdiv\u001b[0m\u001b[1;33m(\u001b[0m\u001b[0ma\u001b[0m\u001b[1;33m,\u001b[0m\u001b[0mb\u001b[0m\u001b[1;33m)\u001b[0m\u001b[1;33m:\u001b[0m\u001b[1;33m\u001b[0m\u001b[1;33m\u001b[0m\u001b[0m\n\u001b[0;32m      2\u001b[0m     \u001b[1;32mreturn\u001b[0m \u001b[0ma\u001b[0m\u001b[1;33m/\u001b[0m\u001b[0mb\u001b[0m\u001b[1;33m\u001b[0m\u001b[1;33m\u001b[0m\u001b[0m\n\u001b[1;32m----> 3\u001b[1;33m \u001b[0mprint\u001b[0m\u001b[1;33m(\u001b[0m\u001b[0mdiv\u001b[0m\u001b[1;33m(\u001b[0m\u001b[1;36m5\u001b[0m\u001b[1;33m,\u001b[0m\u001b[1;36m0\u001b[0m\u001b[1;33m)\u001b[0m\u001b[1;33m)\u001b[0m\u001b[1;33m\u001b[0m\u001b[1;33m\u001b[0m\u001b[0m\n\u001b[0m",
      "\u001b[1;32m<ipython-input-17-7e911028ac33>\u001b[0m in \u001b[0;36mdiv\u001b[1;34m(a, b)\u001b[0m\n\u001b[0;32m      1\u001b[0m \u001b[1;32mdef\u001b[0m \u001b[0mdiv\u001b[0m\u001b[1;33m(\u001b[0m\u001b[0ma\u001b[0m\u001b[1;33m,\u001b[0m\u001b[0mb\u001b[0m\u001b[1;33m)\u001b[0m\u001b[1;33m:\u001b[0m\u001b[1;33m\u001b[0m\u001b[1;33m\u001b[0m\u001b[0m\n\u001b[1;32m----> 2\u001b[1;33m     \u001b[1;32mreturn\u001b[0m \u001b[0ma\u001b[0m\u001b[1;33m/\u001b[0m\u001b[0mb\u001b[0m\u001b[1;33m\u001b[0m\u001b[1;33m\u001b[0m\u001b[0m\n\u001b[0m\u001b[0;32m      3\u001b[0m \u001b[0mprint\u001b[0m\u001b[1;33m(\u001b[0m\u001b[0mdiv\u001b[0m\u001b[1;33m(\u001b[0m\u001b[1;36m5\u001b[0m\u001b[1;33m,\u001b[0m\u001b[1;36m0\u001b[0m\u001b[1;33m)\u001b[0m\u001b[1;33m)\u001b[0m\u001b[1;33m\u001b[0m\u001b[1;33m\u001b[0m\u001b[0m\n",
      "\u001b[1;31mZeroDivisionError\u001b[0m: division by zero"
     ]
    }
   ],
   "source": [
    "def div(a,b):\n",
    "    return a/b\n",
    "print(div(5,0))"
   ]
  },
  {
   "cell_type": "code",
   "execution_count": 21,
   "metadata": {},
   "outputs": [
    {
     "name": "stdout",
     "output_type": "stream",
     "text": [
      "2.5\n",
      "No Exception\n",
      "I always Run!!\n"
     ]
    }
   ],
   "source": [
    "def div(a,b):\n",
    "    return a/b\n",
    "try:\n",
    "    print(div(5,2))\n",
    "except:\n",
    "    print(\"Exception Occured\")\n",
    "else:\n",
    "    print(\"No Exception\")\n",
    "finally:\n",
    "    print(\"I always Run!!\")"
   ]
  },
  {
   "cell_type": "code",
   "execution_count": 27,
   "metadata": {},
   "outputs": [
    {
     "name": "stdout",
     "output_type": "stream",
     "text": [
      "Exception occured: a should integer\n"
     ]
    }
   ],
   "source": [
    "def add(a,b):\n",
    "    if type(a)==str:\n",
    "        raise TypeError(\"a should integer\")\n",
    "    if type(a)==str:\n",
    "        raise TypeError(\"b$----\")\n",
    "try:\n",
    "    print(add(\"abc\",\"xyz\"))\n",
    "except Exception as e:\n",
    "    print(\"Exception occured:\",e)"
   ]
  },
  {
   "cell_type": "code",
   "execution_count": 31,
   "metadata": {},
   "outputs": [
    {
     "name": "stdout",
     "output_type": "stream",
     "text": [
      "HelloLJIETNeel\n",
      "XYZ\n",
      "PQRHello Everyone\n",
      "Hello Everyone\n",
      "Hello Everyone\n",
      "5\n",
      "Lala Limit Ma Raho\n"
     ]
    }
   ],
   "source": [
    "try:\n",
    "    m=5\n",
    "    f=open(\"abc.txt\",\"r\")\n",
    "    print(f.read())\n",
    "    print(m)\n",
    "    l=[1,2,3]\n",
    "    print(l[100])\n",
    "except FileNotFoundError:\n",
    "    print(\"File Nathi\")\n",
    "except NameError:\n",
    "    print(\"a name thi koi nathii\")\n",
    "except IndexError:\n",
    "    print(\"Lala Limit Ma Raho\")\n",
    "except Exception as e:\n",
    "    print(e)"
   ]
  },
  {
   "cell_type": "code",
   "execution_count": 41,
   "metadata": {},
   "outputs": [
    {
     "name": "stdout",
     "output_type": "stream",
     "text": [
      "Book Name: Luky-Bhaskar\n",
      "Book title: Scam1992\n",
      "Book Author: Neel\n",
      "Book Publisher: Ishan\n"
     ]
    }
   ],
   "source": [
    "#WAP USING OOP CREATE A CLASS LIBRARY IN WHICH WE CAN ADD BOOKS AND DISPLAY BOOKS BOOKS HAVE ATTRIBUTE BOOKNAME OR TITLE\n",
    "# AUTHOR NAME AND PUBLISHER NAME \n",
    "f=open(\"Library.txt\",\"a\")\n",
    "class Library:\n",
    "    def __init__(self,name,title,author,publisher):\n",
    "        self.name=name\n",
    "        self.title=title\n",
    "        self.author=author\n",
    "        self.publisher=publisher\n",
    "    def display(self):\n",
    "        print(\"Book Name:\",self.name)\n",
    "        f.write(self.name)\n",
    "        print(\"Book title:\",self.title)\n",
    "        f.write(self.title)\n",
    "        print(\"Book Author:\",self.author)\n",
    "        f.write(self.author)\n",
    "        print(\"Book Publisher:\",self.publisher)\n",
    "        f.write(self.publisher)\n",
    "        \n",
    "a=Library(\"Luky-Bhaskar\",\"Scam1992\",\"Neel\",\"Ishan\")\n",
    "\n",
    "\n",
    "a.display()\n",
    "f.close()"
   ]
  },
  {
   "cell_type": "code",
   "execution_count": 45,
   "metadata": {},
   "outputs": [
    {
     "name": "stdout",
     "output_type": "stream",
     "text": [
      "Enter Age:17\n",
      "Exception Occured\n"
     ]
    }
   ],
   "source": [
    "# CREATE YOUR OWN EXCEPTION MANUALLY\n",
    "class InvalidAgeException(Exception):\n",
    "    pass\n",
    "n=18\n",
    "try:\n",
    "    num=int(input(\"Enter Age:\"))\n",
    "    if num<n:\n",
    "        raise InvalidAgeException\n",
    "    else:\n",
    "        print(\"Valid\")\n",
    "except InvalidAgeException:\n",
    "        print(\"Exception Occured\")"
   ]
  },
  {
   "cell_type": "code",
   "execution_count": 51,
   "metadata": {},
   "outputs": [
    {
     "name": "stdout",
     "output_type": "stream",
     "text": [
      "Jao Gadi Chalaooo\n"
     ]
    }
   ],
   "source": [
    "# CREATE YOUR OWN EXCEPTION MANUALLY\n",
    "class NotValidAge(Exception):\n",
    "    def __str__(self):\n",
    "        return \"18 year\"\n",
    "def driving(age):\n",
    "    if age<18:\n",
    "        raise NotValidAge\n",
    "    else:\n",
    "        print(\"Jao Gadi Chalaooo\")\n",
    "driving(90)"
   ]
  },
  {
   "cell_type": "code",
   "execution_count": null,
   "metadata": {},
   "outputs": [
    {
     "name": "stdout",
     "output_type": "stream",
     "text": [
      "\n",
      "            1) Create Pin\n",
      "            2) Change Pin\n",
      "            3) Check Balance\n",
      "            4) Withdraw\n",
      "            5) Deposit\n",
      "            6) Exit\n",
      "            \n",
      "Enter Your Choice: 1\n",
      "Create your PIN: 2005\n",
      "Pin created successfully!\n",
      "\n",
      "            1) Create Pin\n",
      "            2) Change Pin\n",
      "            3) Check Balance\n",
      "            4) Withdraw\n",
      "            5) Deposit\n",
      "            6) Exit\n",
      "            \n",
      "Enter Your Choice: 5\n",
      "Enter your PIN to deposit: 1000\n",
      "Incorrect PIN!\n",
      "\n",
      "            1) Create Pin\n",
      "            2) Change Pin\n",
      "            3) Check Balance\n",
      "            4) Withdraw\n",
      "            5) Deposit\n",
      "            6) Exit\n",
      "            \n",
      "Enter Your Choice: 5\n",
      "Enter your PIN to deposit: 2005\n",
      "Enter amount to deposit: $1000\n",
      "Successfully deposited 1000.0. Your new balance is: 1000.0\n",
      "\n",
      "            1) Create Pin\n",
      "            2) Change Pin\n",
      "            3) Check Balance\n",
      "            4) Withdraw\n",
      "            5) Deposit\n",
      "            6) Exit\n",
      "            \n",
      "Enter Your Choice: 3\n",
      "Enter your PIN to check balance: 2005\n",
      "Your current balance is:1000.0\n",
      "\n",
      "            1) Create Pin\n",
      "            2) Change Pin\n",
      "            3) Check Balance\n",
      "            4) Withdraw\n",
      "            5) Deposit\n",
      "            6) Exit\n",
      "            \n",
      "Enter Your Choice: 4\n",
      "Enter your PIN to withdraw: 2005\n",
      "Enter amount to withdraw: $500\n",
      "Successfully withdrew 500.0. Your new balance is: 500.0\n",
      "\n",
      "            1) Create Pin\n",
      "            2) Change Pin\n",
      "            3) Check Balance\n",
      "            4) Withdraw\n",
      "            5) Deposit\n",
      "            6) Exit\n",
      "            \n",
      "Enter Your Choice: 3\n",
      "Enter your PIN to check balance: 2005\n",
      "Your current balance is:500.0\n",
      "\n",
      "            1) Create Pin\n",
      "            2) Change Pin\n",
      "            3) Check Balance\n",
      "            4) Withdraw\n",
      "            5) Deposit\n",
      "            6) Exit\n",
      "            \n",
      "Enter Your Choice: 36\n",
      "Invalid choice, Please try again!\n",
      "\n",
      "            1) Create Pin\n",
      "            2) Change Pin\n",
      "            3) Check Balance\n",
      "            4) Withdraw\n",
      "            5) Deposit\n",
      "            6) Exit\n",
      "            \n"
     ]
    }
   ],
   "source": [
    "class Atm:\n",
    "    def __init__(self):\n",
    "        self.pin = None\n",
    "        self.balance = 0\n",
    "\n",
    "    def main(self):\n",
    "        while True:\n",
    "            print(\"\"\"\n",
    "            1) Create Pin\n",
    "            2) Change Pin\n",
    "            3) Check Balance\n",
    "            4) Withdraw\n",
    "            5) Deposit\n",
    "            6) Exit\n",
    "            \"\"\")\n",
    "            choice = int(input(\"Enter Your Choice: \"))\n",
    "            if choice == 1:\n",
    "                self.create_pin()\n",
    "            elif choice == 2:\n",
    "                self.change_pin()\n",
    "            elif choice == 3:\n",
    "                self.check_balance()\n",
    "            elif choice == 4:\n",
    "                self.withdraw()\n",
    "            elif choice == 5:\n",
    "                self.deposit()\n",
    "            elif choice == 6:\n",
    "                print(\"Exiting to ATM\")\n",
    "                break\n",
    "            else:\n",
    "                print(\"Invalid choice, Please try again!\")\n",
    "\n",
    "    def create_pin(self):\n",
    "        if self.pin is not None:\n",
    "            print(\"Pin is already created.\")\n",
    "        else:\n",
    "            self.pin = input(\"Create your PIN: \")\n",
    "            print(\"Pin created successfully!\")\n",
    "\n",
    "    def change_pin(self):\n",
    "        if self.pin is None:\n",
    "            print(\"No PIN set. Please create a PIN first.\")\n",
    "        else:\n",
    "            current_pin = input(\"Enter your current PIN: \")\n",
    "            if current_pin == self.pin:\n",
    "                new_pin = input(\"Enter your new PIN: \")\n",
    "                self.pin = new_pin\n",
    "                print(\"Pin changed successfully!\")\n",
    "            else:\n",
    "                print(\"Incorrect PIN!\")\n",
    "\n",
    "    def check_balance(self):\n",
    "        if self.pin is None:\n",
    "            print(\"Please set a PIN first.\")\n",
    "        else:\n",
    "            pin_input = input(\"Enter your PIN to check balance: \")\n",
    "            if pin_input == self.pin:\n",
    "                print(f\"Your current balance is:{self.balance}\")\n",
    "            else:\n",
    "                print(\"Incorrect PIN!\")\n",
    "\n",
    "    def withdraw(self):\n",
    "        if self.pin is None:\n",
    "            print(\"Please set a PIN first.\")\n",
    "        else:\n",
    "            pin_input = input(\"Enter your PIN to withdraw: \")\n",
    "            if pin_input == self.pin:\n",
    "                amount = float(input(\"Enter amount to withdraw: $\"))\n",
    "                if amount > self.balance:\n",
    "                    print(\"Insufficient balance!\")\n",
    "                else:\n",
    "                    self.balance -= amount\n",
    "                    print(f\"Successfully withdrew {amount}. Your new balance is: {self.balance}\")\n",
    "            else:\n",
    "                print(\"Incorrect PIN!\")\n",
    "\n",
    "    def deposit(self):\n",
    "        if self.pin is None:\n",
    "            print(\"Please set a PIN first.\")\n",
    "        else:\n",
    "            pin_input = input(\"Enter your PIN to deposit: \")\n",
    "            if pin_input == self.pin:\n",
    "                amount = float(input(\"Enter amount to deposit: $\"))\n",
    "                self.balance += amount\n",
    "                print(f\"Successfully deposited {amount}. Your new balance is: {self.balance}\")\n",
    "            else:\n",
    "                print(\"Incorrect PIN!\")\n",
    "\n",
    "# Create an instance of the ATM class and run the main method\n",
    "atm = Atm()\n",
    "atm.main()\n"
   ]
  },
  {
   "cell_type": "code",
   "execution_count": 1,
   "metadata": {},
   "outputs": [
    {
     "name": "stdout",
     "output_type": "stream",
     "text": [
      "Shift: 10\n",
      "Unshifted List: [5, 20, 30, 40]\n",
      "Pushed List: [5, 20, 30, 40, 50]\n",
      "Pop: 50\n",
      "After Pop: [5, 20, 30, 40]\n",
      "Remove: 40\n",
      "After Remove: [5, 20, 30]\n"
     ]
    }
   ],
   "source": [
    "class SQ:\n",
    "    class EmptyListError(Exception):\n",
    "        pass\n",
    "    \n",
    "    def __init__(self, valid_parameter):\n",
    "        if not isinstance(valid_parameter, list):\n",
    "            raise ValueError(\"Parameter must be a list.\")\n",
    "        self.items = valid_parameter\n",
    "    \n",
    "    def shift(self):\n",
    "        if not self.items:\n",
    "            raise SQ.EmptyListError(\"The list is empty, cannot perform shift.\")\n",
    "        return self.items.pop(0)\n",
    "    \n",
    "    def unshift(self, element):\n",
    "        self.items.insert(0, element)\n",
    "    \n",
    "    def push(self, element):\n",
    "        self.items.append(element)\n",
    "    \n",
    "    def pop(self):\n",
    "        if not self.items:\n",
    "            raise SQ.EmptyListError(\"The list is empty, cannot perform pop.\")\n",
    "        return self.items.pop()\n",
    "    \n",
    "    def remove(self):\n",
    "        if not self.items:\n",
    "            raise SQ.EmptyListError(\"The list is empty, cannot perform remove.\")\n",
    "        max_element = max(self.items)\n",
    "        self.items.remove(max_element)\n",
    "        return max_element\n",
    "\n",
    "if __name__ == \"__main__\":\n",
    "    try:\n",
    "        sq = SQ([10, 20, 30, 40])\n",
    "        \n",
    "     \n",
    "        print(\"Shift:\", sq.shift()) \n",
    "        sq.unshift(5) \n",
    "        print(\"Unshifted List:\", sq.items)\n",
    "        sq.push(50) \n",
    "        print(\"Pushed List:\", sq.items)\n",
    "        print(\"Pop:\", sq.pop())  \n",
    "        print(\"After Pop:\", sq.items)\n",
    "        print(\"Remove:\", sq.remove()) \n",
    "        print(\"After Remove:\", sq.items)\n",
    "    \n",
    "    except SQ.EmptyListError as e:\n",
    "        print(e)\n"
   ]
  },
  {
   "cell_type": "code",
   "execution_count": 1,
   "metadata": {},
   "outputs": [
    {
     "name": "stdout",
     "output_type": "stream",
     "text": [
      "\n",
      "--- Store Menu ---\n",
      "Item Code: 001 | Item: Apple | Price: 2.50\n",
      "Item Code: 002 | Item: Banana | Price: 1.20\n",
      "Item Code: 003 | Item: Orange | Price: 3.00\n",
      "Item Code: 004 | Item: Mango | Price: 5.00\n",
      "Item Code: 005 | Item: Grapes | Price: 4.00\n",
      "\n",
      "Enter quantity for each item:\n",
      "Quantity of Apple (Code 001): 5\n",
      "Quantity of Banana (Code 002): 5\n",
      "Quantity of Orange (Code 003): 5\n",
      "Quantity of Mango (Code 004): 5\n",
      "Quantity of Grapes (Code 005): 5\n",
      "\n",
      "--- Bill ---\n",
      "Apple | Quantity: 5 | Unit Price: 2.50 | Total: 12.50\n",
      "Banana | Quantity: 5 | Unit Price: 1.20 | Total: 6.00\n",
      "Orange | Quantity: 5 | Unit Price: 3.00 | Total: 15.00\n",
      "Mango | Quantity: 5 | Unit Price: 5.00 | Total: 25.00\n",
      "Grapes | Quantity: 5 | Unit Price: 4.00 | Total: 20.00\n",
      "\n",
      "Total Amount: 78.50\n",
      "--- End of Bill ---\n"
     ]
    }
   ],
   "source": [
    "#WAP USING OOP THAT HAS CLASS STORE WHICH KEEPS RECORD OF ITEM NAMES ITEM CODE AND PRICE AND QUNTITY DISPLAY A MANU OF ALL PRODUCTS TO THE USER AND PROMT HINT TO ENTER THE QUNTITY OF EACH ITEM REQURIED GENERATE A BILL AND DISPLAY\n",
    "\n",
    "class Store:\n",
    "    def __init__(self):\n",
    "        self.items = {\n",
    "            \"001\": {\"name\": \"Apple\", \"price\": 2.5, \"quantity\": 0},\n",
    "            \"002\": {\"name\": \"Banana\", \"price\": 1.2, \"quantity\": 0},\n",
    "            \"003\": {\"name\": \"Orange\", \"price\": 3.0, \"quantity\": 0},\n",
    "            \"004\": {\"name\": \"Mango\", \"price\": 5.0, \"quantity\": 0},\n",
    "            \"005\": {\"name\": \"Grapes\", \"price\": 4.0, \"quantity\": 0}\n",
    "        }\n",
    "\n",
    "    def display_menu(self):\n",
    "        print(\"\\n--- Store Menu ---\")\n",
    "        for code, item in self.items.items():\n",
    "            print(f\"Item Code: {code} | Item: {item['name']} | Price: {item['price']:.2f}\")\n",
    "\n",
    "    def get_user_input(self):\n",
    "        print(\"\\nEnter quantity for each item:\")\n",
    "        for code, item in self.items.items():\n",
    "            while True:\n",
    "                try:\n",
    "                    quantity = int(input(f\"Quantity of {item['name']} (Code {code}): \"))\n",
    "                    if quantity < 0:\n",
    "                        print(\"Please enter a valid quantity (0 or greater).\")\n",
    "                    else:\n",
    "                        item[\"quantity\"] = quantity\n",
    "                        break\n",
    "                except ValueError:\n",
    "                    print(\"Invalid input. Please enter a number.\")\n",
    "\n",
    "    def generate_bill(self):\n",
    "        print(\"\\n--- Bill ---\")\n",
    "        total_amount = 0\n",
    "        for item in self.items.values():\n",
    "            if item[\"quantity\"] > 0:\n",
    "                item_total = item[\"price\"] * item[\"quantity\"]\n",
    "                total_amount += item_total\n",
    "                print(f\"{item['name']} | Quantity: {item['quantity']} | Unit Price: {item['price']:.2f} | Total: {item_total:.2f}\")\n",
    "\n",
    "        print(f\"\\nTotal Amount: {total_amount:.2f}\")\n",
    "        print(\"--- End of Bill ---\")\n",
    "\n",
    "\n",
    "def main():\n",
    "    store = Store()\n",
    "    store.display_menu()\n",
    "    store.get_user_input()\n",
    "    store.generate_bill()\n",
    "\n",
    "\n",
    "if __name__ == \"__main__\":\n",
    "    main()\n"
   ]
  },
  {
   "cell_type": "code",
   "execution_count": 3,
   "metadata": {},
   "outputs": [
    {
     "name": "stdout",
     "output_type": "stream",
     "text": [
      "Neel\n"
     ]
    }
   ],
   "source": [
    "class test:\n",
    "    def __init__(self,a):\n",
    "        self.a=a\n",
    "        \n",
    "    def display(self):\n",
    "        print(self.a)\n",
    "        \n",
    "obj=test(\"Neel\")\n",
    "obj.display()"
   ]
  },
  {
   "cell_type": "code",
   "execution_count": 5,
   "metadata": {},
   "outputs": [
    {
     "name": "stdout",
     "output_type": "stream",
     "text": [
      "6\n"
     ]
    }
   ],
   "source": [
    "class A:\n",
    "    def __init__(self):\n",
    "        self.count=5\n",
    "      #  self.count=count+1 it will give error count is not declared\n",
    "        self.count=self.count+1\n",
    "a=A()\n",
    "print(a.count)"
   ]
  },
  {
   "cell_type": "code",
   "execution_count": 6,
   "metadata": {},
   "outputs": [
    {
     "name": "stdout",
     "output_type": "stream",
     "text": [
      "Valid Month: 6\n"
     ]
    }
   ],
   "source": [
    "def getmonth(m):\n",
    "    if m<1 or m>12:\n",
    "        raise ValueError(\"Invalid\")\n",
    "    print(\"Valid Month:\",m)\n",
    "getmonth(6)"
   ]
  },
  {
   "cell_type": "code",
   "execution_count": 7,
   "metadata": {},
   "outputs": [
    {
     "ename": "ValueError",
     "evalue": "Invalid",
     "output_type": "error",
     "traceback": [
      "\u001b[1;31m---------------------------------------------------------------------------\u001b[0m",
      "\u001b[1;31mValueError\u001b[0m                                Traceback (most recent call last)",
      "\u001b[1;32m<ipython-input-7-b0bf84f64a22>\u001b[0m in \u001b[0;36m<module>\u001b[1;34m\u001b[0m\n\u001b[1;32m----> 1\u001b[1;33m \u001b[0mgetmonth\u001b[0m\u001b[1;33m(\u001b[0m\u001b[1;36m13\u001b[0m\u001b[1;33m)\u001b[0m\u001b[1;33m\u001b[0m\u001b[1;33m\u001b[0m\u001b[0m\n\u001b[0m",
      "\u001b[1;32m<ipython-input-6-a2bc726b46a6>\u001b[0m in \u001b[0;36mgetmonth\u001b[1;34m(m)\u001b[0m\n\u001b[0;32m      1\u001b[0m \u001b[1;32mdef\u001b[0m \u001b[0mgetmonth\u001b[0m\u001b[1;33m(\u001b[0m\u001b[0mm\u001b[0m\u001b[1;33m)\u001b[0m\u001b[1;33m:\u001b[0m\u001b[1;33m\u001b[0m\u001b[1;33m\u001b[0m\u001b[0m\n\u001b[0;32m      2\u001b[0m     \u001b[1;32mif\u001b[0m \u001b[0mm\u001b[0m\u001b[1;33m<\u001b[0m\u001b[1;36m1\u001b[0m \u001b[1;32mor\u001b[0m \u001b[0mm\u001b[0m\u001b[1;33m>\u001b[0m\u001b[1;36m12\u001b[0m\u001b[1;33m:\u001b[0m\u001b[1;33m\u001b[0m\u001b[1;33m\u001b[0m\u001b[0m\n\u001b[1;32m----> 3\u001b[1;33m         \u001b[1;32mraise\u001b[0m \u001b[0mValueError\u001b[0m\u001b[1;33m(\u001b[0m\u001b[1;34m\"Invalid\"\u001b[0m\u001b[1;33m)\u001b[0m\u001b[1;33m\u001b[0m\u001b[1;33m\u001b[0m\u001b[0m\n\u001b[0m\u001b[0;32m      4\u001b[0m     \u001b[0mprint\u001b[0m\u001b[1;33m(\u001b[0m\u001b[1;34m\"Valid Month:\"\u001b[0m\u001b[1;33m,\u001b[0m\u001b[0mm\u001b[0m\u001b[1;33m)\u001b[0m\u001b[1;33m\u001b[0m\u001b[1;33m\u001b[0m\u001b[0m\n\u001b[0;32m      5\u001b[0m \u001b[0mgetmonth\u001b[0m\u001b[1;33m(\u001b[0m\u001b[1;36m6\u001b[0m\u001b[1;33m)\u001b[0m\u001b[1;33m\u001b[0m\u001b[1;33m\u001b[0m\u001b[0m\n",
      "\u001b[1;31mValueError\u001b[0m: Invalid"
     ]
    }
   ],
   "source": [
    "getmonth(13)"
   ]
  },
  {
   "cell_type": "code",
   "execution_count": 12,
   "metadata": {},
   "outputs": [
    {
     "name": "stdout",
     "output_type": "stream",
     "text": [
      "This Is Python\n"
     ]
    }
   ],
   "source": [
    "try:\n",
    "    a=5\n",
    "    print(a)\n",
    "    print(b) # b is not defined then except  block will be executed\n",
    "except:\n",
    "    print(\"This Is Python\")"
   ]
  },
  {
   "cell_type": "code",
   "execution_count": 15,
   "metadata": {},
   "outputs": [
    {
     "ename": "TypeError",
     "evalue": "write() argument must be str, not int",
     "output_type": "error",
     "traceback": [
      "\u001b[1;31m---------------------------------------------------------------------------\u001b[0m",
      "\u001b[1;31mTypeError\u001b[0m                                 Traceback (most recent call last)",
      "\u001b[1;32m<ipython-input-15-ea8bbcb9b6f1>\u001b[0m in \u001b[0;36m<module>\u001b[1;34m\u001b[0m\n\u001b[0;32m      1\u001b[0m \u001b[0mf\u001b[0m\u001b[1;33m=\u001b[0m\u001b[0mopen\u001b[0m\u001b[1;33m(\u001b[0m\u001b[1;34m\"abc.txt\"\u001b[0m\u001b[1;33m,\u001b[0m\u001b[1;34m\"w\"\u001b[0m\u001b[1;33m)\u001b[0m\u001b[1;33m\u001b[0m\u001b[1;33m\u001b[0m\u001b[0m\n\u001b[0;32m      2\u001b[0m \u001b[0mx\u001b[0m\u001b[1;33m=\u001b[0m\u001b[1;33m[\u001b[0m\u001b[1;36m1\u001b[0m\u001b[1;33m,\u001b[0m\u001b[1;36m2\u001b[0m\u001b[1;33m,\u001b[0m\u001b[1;36m3\u001b[0m\u001b[1;33m]\u001b[0m\u001b[1;33m\u001b[0m\u001b[1;33m\u001b[0m\u001b[0m\n\u001b[1;32m----> 3\u001b[1;33m \u001b[0mf\u001b[0m\u001b[1;33m.\u001b[0m\u001b[0mwritelines\u001b[0m\u001b[1;33m(\u001b[0m\u001b[0mx\u001b[0m\u001b[1;33m)\u001b[0m\u001b[1;33m\u001b[0m\u001b[1;33m\u001b[0m\u001b[0m\n\u001b[0m\u001b[0;32m      4\u001b[0m \u001b[0mf\u001b[0m\u001b[1;33m.\u001b[0m\u001b[0mclose\u001b[0m\u001b[1;33m(\u001b[0m\u001b[1;33m)\u001b[0m\u001b[1;33m\u001b[0m\u001b[1;33m\u001b[0m\u001b[0m\n",
      "\u001b[1;31mTypeError\u001b[0m: write() argument must be str, not int"
     ]
    }
   ],
   "source": [
    "f=open(\"abc.txt\",\"w\")\n",
    "x=[1,2,3]\n",
    "f.writelines(x)\n",
    "f.close()"
   ]
  },
  {
   "cell_type": "code",
   "execution_count": 19,
   "metadata": {},
   "outputs": [
    {
     "name": "stdout",
     "output_type": "stream",
     "text": [
      "Total Lines: 4\n"
     ]
    }
   ],
   "source": [
    "# COUNT HOW MANY LINES\n",
    "myfile=open(\"file1.txt\")\n",
    "record=myfile.readlines()\n",
    "print(\"Total Lines:\",len(record))\n",
    "myfile.close()"
   ]
  },
  {
   "cell_type": "code",
   "execution_count": 2,
   "metadata": {},
   "outputs": [],
   "source": [
    "def print_contents(file):\n",
    "    file_obj=open(file)\n",
    "    for line in file_obj:\n",
    "        print(line)\n",
    "print_contents(\"file1.txt\")"
   ]
  },
  {
   "cell_type": "code",
   "execution_count": null,
   "metadata": {},
   "outputs": [],
   "source": []
  }
 ],
 "metadata": {
  "kernelspec": {
   "display_name": "Python 3",
   "language": "python",
   "name": "python3"
  },
  "language_info": {
   "codemirror_mode": {
    "name": "ipython",
    "version": 3
   },
   "file_extension": ".py",
   "mimetype": "text/x-python",
   "name": "python",
   "nbconvert_exporter": "python",
   "pygments_lexer": "ipython3",
   "version": "3.8.5"
  }
 },
 "nbformat": 4,
 "nbformat_minor": 4
}
