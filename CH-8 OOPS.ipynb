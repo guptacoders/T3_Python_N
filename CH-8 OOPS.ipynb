{
 "cells": [
  {
   "cell_type": "markdown",
   "metadata": {},
   "source": [
    "# CH-8 OOPS"
   ]
  },
  {
   "cell_type": "code",
   "execution_count": 1,
   "metadata": {},
   "outputs": [
    {
     "name": "stdout",
     "output_type": "stream",
     "text": [
      "LJ INSTITUTE\n",
      "Neel\n",
      "19\n",
      "Male\n",
      "--------------------\n",
      "Name: KIA\n",
      "Age: 45\n",
      "Gender: Male\n"
     ]
    }
   ],
   "source": [
    "class Human:\n",
    "    species=\"LJ INSTITUTE\"\n",
    "    def __init__(self,name,age,gender):\n",
    "        self.name=name\n",
    "        self.age=age\n",
    "        self.gender=gender\n",
    "    def display(self):\n",
    "        print(\"Name:\",self.name)\n",
    "        print(\"Age:\",self.age)\n",
    "        print(\"Gender:\",self.gender)\n",
    "    def speak(self):\n",
    "        print(\"I can Speak\",self.name)\n",
    "    def eat(self,fav_dish):\n",
    "        print(\"I Love To eat:\",fav_dish)\n",
    "\n",
    "x=Human(\"Neel\",19,\"Male\")\n",
    "print(x.species)\n",
    "print(x.name)\n",
    "print(x.age)\n",
    "print(x.gender)\n",
    "print(\"-\"*20)\n",
    "\n",
    "z=Human(\"KIA\",45,\"Male\")\n",
    "z.display()"
   ]
  },
  {
   "cell_type": "code",
   "execution_count": 2,
   "metadata": {},
   "outputs": [
    {
     "name": "stdout",
     "output_type": "stream",
     "text": [
      "LJ INSTITUTE\n",
      "Ishan\n",
      "20\n",
      "Male\n"
     ]
    }
   ],
   "source": [
    "y=Human(\"Ishan\",20,\"Male\")\n",
    "print(y.species)\n",
    "print(y.name)\n",
    "print(y.age)\n",
    "print(y.gender)"
   ]
  },
  {
   "cell_type": "code",
   "execution_count": 3,
   "metadata": {},
   "outputs": [
    {
     "name": "stdout",
     "output_type": "stream",
     "text": [
      "Name: KIA\n",
      "Age: 45\n",
      "Gender: Male\n"
     ]
    }
   ],
   "source": [
    "z=Human(\"KIA\",45,\"Male\")\n",
    "z.display()"
   ]
  },
  {
   "cell_type": "code",
   "execution_count": 4,
   "metadata": {},
   "outputs": [
    {
     "name": "stdout",
     "output_type": "stream",
     "text": [
      "Name: Neel\n",
      "Age: 19\n",
      "Gender: Male\n",
      "I can Speak Neel\n",
      "I Love To eat: Sweets\n"
     ]
    }
   ],
   "source": [
    "X=Human(\"ABC\",18,\"M\")\n",
    "x.display()\n",
    "x.speak()\n",
    "x.eat(\"Sweets\")\n",
    "   "
   ]
  },
  {
   "cell_type": "code",
   "execution_count": 5,
   "metadata": {},
   "outputs": [
    {
     "name": "stdout",
     "output_type": "stream",
     "text": [
      "Book Name: The Witchess\n",
      "------------------------------\n",
      "Book Name: The Witchess Return\n"
     ]
    }
   ],
   "source": [
    "class Library:\n",
    "    def __init__(self,id,name):\n",
    "        self.bookid=id\n",
    "        self.bookname=name\n",
    "    def setbookname(self,newbookname):\n",
    "        self.bookname=newbookname\n",
    "    def getbookname(self):\n",
    "        print(\"Book Name:\",self.bookname)\n",
    "        \n",
    "a=Library(10,\"The Witchess\")\n",
    "a.getbookname()\n",
    "print(\"-\"*30)\n",
    "a.setbookname(\"The Witchess Return\")\n",
    "a.getbookname()"
   ]
  },
  {
   "cell_type": "code",
   "execution_count": 10,
   "metadata": {},
   "outputs": [
    {
     "name": "stdout",
     "output_type": "stream",
     "text": [
      "Enter Marks:21\n",
      "Enter Marks:22\n",
      "Enter Marks:23\n",
      "Student Name: Neel\n",
      "Student Id: 1\n",
      "Total: 66\n"
     ]
    }
   ],
   "source": [
    "# wap to using class to store marks of student  use list to store marks of 3 subject also return total marks of 3 subject\n",
    "class Student:\n",
    "    def __init__(self,id,name):\n",
    "        self.stdid=id\n",
    "        self.stdname=name\n",
    "        self.marks=[]\n",
    "    def entermarks(self):\n",
    "        for i in range(3):\n",
    "            m=int(input(\"Enter Marks:\"))\n",
    "            self.marks.append(m)\n",
    "    def total(self):\n",
    "        return sum(self.marks)\n",
    "    def display(self):\n",
    "        print(\"Student Name:\",self.stdname)\n",
    "        print(\"Student Id:\",self.stdid)\n",
    "        print(\"Total:\",self.total())\n",
    "       # print(\"\",self.stdname,self.stdid,\"Total=\",self.total())\n",
    "        \n",
    "std1=Student(1,\"Neel\")\n",
    "std1.entermarks()\n",
    "std1.display()"
   ]
  },
  {
   "cell_type": "code",
   "execution_count": 17,
   "metadata": {},
   "outputs": [
    {
     "name": "stdout",
     "output_type": "stream",
     "text": [
      "Account No: 70\n",
      "name: Neel\n",
      "Balance: 3325.0\n"
     ]
    }
   ],
   "source": [
    "#WAP USING CLASS FOR BANK MANAGEMENT SYSTEM \n",
    "#STEP 1 CREATE PY CLASS CALLED ABNKACCOUNT WHICH HAS ATTRIBUTES ACNUBER AND NAME AND BALANCE \n",
    "# CREATE DEPOSIT METHOD WHICH MANAGE THE DEPOSIT ACTION CREATE A WITHROWAL METHOD WHICH MANAGES WITHDRAWAL ACIONS\n",
    "#CREATE A BANK FEES METHOD TO APPLY THE BANK FEES WITH PERCENTAGE OF 5% OF THE BALANCE \n",
    "#CREATE DISPLAY METHOD  TO DISPLAY ACCOUNT DETAILS \n",
    "\n",
    "class Bankaccount:\n",
    "    def __init__(self,acnum,name,balance):\n",
    "        self.acnum=acnum\n",
    "        self.name=name\n",
    "        self.balance=balance\n",
    "        \n",
    "    def deposit(self,newbalance):\n",
    "        self.balance+=newbalance\n",
    "        \n",
    "    def withdrawal(self,amt):\n",
    "        if self.balance<amt:\n",
    "            print(\"Insuffecient Balance\")\n",
    "        else:\n",
    "            self.balance-=amt\n",
    "    \n",
    "    def bankfees(self):\n",
    "        self.balance=(95/100)*self.balance\n",
    "        \n",
    "    def display(self):\n",
    "        print(\"Account No:\",self.acnum)\n",
    "        print(\"name:\",self.name)\n",
    "        print(\"Balance:\",self.balance)\n",
    "        \n",
    "ac1=Bankaccount(70,\"Neel\",2500)\n",
    "ac1.deposit(2000)\n",
    "ac1.withdrawal(1000)\n",
    "ac1.bankfees()\n",
    "ac1.display()\n",
    "\n"
   ]
  },
  {
   "cell_type": "code",
   "execution_count": null,
   "metadata": {},
   "outputs": [],
   "source": []
  }
 ],
 "metadata": {
  "kernelspec": {
   "display_name": "Python 3",
   "language": "python",
   "name": "python3"
  },
  "language_info": {
   "codemirror_mode": {
    "name": "ipython",
    "version": 3
   },
   "file_extension": ".py",
   "mimetype": "text/x-python",
   "name": "python",
   "nbconvert_exporter": "python",
   "pygments_lexer": "ipython3",
   "version": "3.8.5"
  }
 },
 "nbformat": 4,
 "nbformat_minor": 4
}
