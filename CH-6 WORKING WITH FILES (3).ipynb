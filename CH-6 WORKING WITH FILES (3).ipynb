{
 "cells": [
  {
   "cell_type": "markdown",
   "metadata": {},
   "source": [
    "# CH-6 WORKING WITH FILES"
   ]
  },
  {
   "cell_type": "code",
   "execution_count": 27,
   "metadata": {},
   "outputs": [],
   "source": [
    "f=open(\"abc.txt\",\"w\")"
   ]
  },
  {
   "cell_type": "code",
   "execution_count": 25,
   "metadata": {},
   "outputs": [
    {
     "data": {
      "text/plain": [
       "8"
      ]
     },
     "execution_count": 25,
     "metadata": {},
     "output_type": "execute_result"
    }
   ],
   "source": [
    "f.write(\"Welcome\\n\")"
   ]
  },
  {
   "cell_type": "code",
   "execution_count": 26,
   "metadata": {},
   "outputs": [],
   "source": [
    "f.close()"
   ]
  },
  {
   "cell_type": "code",
   "execution_count": 28,
   "metadata": {},
   "outputs": [
    {
     "data": {
      "text/plain": [
       "5"
      ]
     },
     "execution_count": 28,
     "metadata": {},
     "output_type": "execute_result"
    }
   ],
   "source": [
    "f.write(\"Hello\")"
   ]
  },
  {
   "cell_type": "code",
   "execution_count": 29,
   "metadata": {},
   "outputs": [
    {
     "data": {
      "text/plain": [
       "5"
      ]
     },
     "execution_count": 29,
     "metadata": {},
     "output_type": "execute_result"
    }
   ],
   "source": [
    "f.write(\"LJIET\")"
   ]
  },
  {
   "cell_type": "code",
   "execution_count": 30,
   "metadata": {},
   "outputs": [],
   "source": [
    "l=[\"Neel\\n\",\"XYZ\\n\",\"PQR\"]\n",
    "f.writelines(l)"
   ]
  },
  {
   "cell_type": "code",
   "execution_count": 31,
   "metadata": {},
   "outputs": [],
   "source": [
    "f.close()"
   ]
  },
  {
   "cell_type": "code",
   "execution_count": 15,
   "metadata": {},
   "outputs": [
    {
     "name": "stdout",
     "output_type": "stream",
     "text": [
      "abc.txt\n"
     ]
    }
   ],
   "source": [
    "print(f.name)"
   ]
  },
  {
   "cell_type": "code",
   "execution_count": 16,
   "metadata": {},
   "outputs": [
    {
     "name": "stdout",
     "output_type": "stream",
     "text": [
      "w\n"
     ]
    }
   ],
   "source": [
    "print(f.mode)"
   ]
  },
  {
   "cell_type": "code",
   "execution_count": 17,
   "metadata": {},
   "outputs": [
    {
     "name": "stdout",
     "output_type": "stream",
     "text": [
      "False\n"
     ]
    }
   ],
   "source": [
    "print(f.readable())"
   ]
  },
  {
   "cell_type": "code",
   "execution_count": 18,
   "metadata": {},
   "outputs": [
    {
     "name": "stdout",
     "output_type": "stream",
     "text": [
      "True\n"
     ]
    }
   ],
   "source": [
    "print(f.writable())"
   ]
  },
  {
   "cell_type": "code",
   "execution_count": 19,
   "metadata": {},
   "outputs": [
    {
     "name": "stdout",
     "output_type": "stream",
     "text": [
      "False\n"
     ]
    }
   ],
   "source": [
    "print(f.closed)"
   ]
  },
  {
   "cell_type": "code",
   "execution_count": 20,
   "metadata": {},
   "outputs": [],
   "source": [
    "f.close()"
   ]
  },
  {
   "cell_type": "code",
   "execution_count": 21,
   "metadata": {},
   "outputs": [
    {
     "name": "stdout",
     "output_type": "stream",
     "text": [
      "True\n"
     ]
    }
   ],
   "source": [
    "print(f.closed)"
   ]
  },
  {
   "cell_type": "code",
   "execution_count": 32,
   "metadata": {},
   "outputs": [],
   "source": [
    "f=open(\"abc.txt\",\"r\")"
   ]
  },
  {
   "cell_type": "code",
   "execution_count": 33,
   "metadata": {},
   "outputs": [
    {
     "name": "stdout",
     "output_type": "stream",
     "text": [
      "HelloLJIETNeel\n",
      "XYZ\n",
      "PQR\n"
     ]
    }
   ],
   "source": [
    "d=f.read()\n",
    "print(d)"
   ]
  },
  {
   "cell_type": "code",
   "execution_count": 34,
   "metadata": {},
   "outputs": [
    {
     "name": "stdout",
     "output_type": "stream",
     "text": [
      "\n"
     ]
    }
   ],
   "source": [
    "d1=f.read()\n",
    "print(d1)"
   ]
  },
  {
   "cell_type": "code",
   "execution_count": 75,
   "metadata": {},
   "outputs": [],
   "source": [
    "f=open(\"abc.txt\",\"a\")"
   ]
  },
  {
   "cell_type": "code",
   "execution_count": 76,
   "metadata": {},
   "outputs": [
    {
     "data": {
      "text/plain": [
       "15"
      ]
     },
     "execution_count": 76,
     "metadata": {},
     "output_type": "execute_result"
    }
   ],
   "source": [
    "f.write(\"\\nHello Everyone\")"
   ]
  },
  {
   "cell_type": "code",
   "execution_count": 77,
   "metadata": {},
   "outputs": [],
   "source": [
    "f.close()"
   ]
  },
  {
   "cell_type": "code",
   "execution_count": 78,
   "metadata": {},
   "outputs": [],
   "source": [
    "f=open(\"abc.txt\",\"r\")"
   ]
  },
  {
   "cell_type": "code",
   "execution_count": 79,
   "metadata": {},
   "outputs": [
    {
     "name": "stdout",
     "output_type": "stream",
     "text": [
      "Hello\n"
     ]
    }
   ],
   "source": [
    "d=f.read(5)\n",
    "print(d)"
   ]
  },
  {
   "cell_type": "code",
   "execution_count": 80,
   "metadata": {},
   "outputs": [
    {
     "name": "stdout",
     "output_type": "stream",
     "text": [
      "LJ\n"
     ]
    }
   ],
   "source": [
    "d1=f.read(2)\n",
    "print(d1)"
   ]
  },
  {
   "cell_type": "code",
   "execution_count": 81,
   "metadata": {},
   "outputs": [
    {
     "name": "stdout",
     "output_type": "stream",
     "text": [
      "IETNeel\n",
      "\n"
     ]
    }
   ],
   "source": [
    "d2=f.readline()\n",
    "print(d2)"
   ]
  },
  {
   "cell_type": "code",
   "execution_count": 82,
   "metadata": {},
   "outputs": [
    {
     "name": "stdout",
     "output_type": "stream",
     "text": [
      "XYZ\n"
     ]
    }
   ],
   "source": [
    "d3=f.readline(3)\n",
    "print(d3)"
   ]
  },
  {
   "cell_type": "code",
   "execution_count": 83,
   "metadata": {},
   "outputs": [],
   "source": [
    "f.close()"
   ]
  },
  {
   "cell_type": "code",
   "execution_count": 90,
   "metadata": {},
   "outputs": [],
   "source": [
    "f=open(\"abc.txt\",\"r\")"
   ]
  },
  {
   "cell_type": "code",
   "execution_count": 85,
   "metadata": {},
   "outputs": [
    {
     "name": "stdout",
     "output_type": "stream",
     "text": [
      "['HelloLJIETNeel\\n', 'XYZ\\n', 'PQRHello Everyone\\n', 'Hello Everyone\\n', 'Hello Everyone']\n"
     ]
    }
   ],
   "source": [
    "d=f.readlines()\n",
    "print(d)"
   ]
  },
  {
   "cell_type": "code",
   "execution_count": 88,
   "metadata": {},
   "outputs": [
    {
     "name": "stdout",
     "output_type": "stream",
     "text": [
      "['HelloLJIETNeel\\n', 'XYZ\\n']\n"
     ]
    }
   ],
   "source": [
    "d1=f.readlines(15)\n",
    "print(d1)"
   ]
  },
  {
   "cell_type": "code",
   "execution_count": 91,
   "metadata": {},
   "outputs": [
    {
     "name": "stdout",
     "output_type": "stream",
     "text": [
      "0\n"
     ]
    }
   ],
   "source": [
    "print(f.tell())"
   ]
  },
  {
   "cell_type": "code",
   "execution_count": 92,
   "metadata": {},
   "outputs": [
    {
     "data": {
      "text/plain": [
       "'Hello'"
      ]
     },
     "execution_count": 92,
     "metadata": {},
     "output_type": "execute_result"
    }
   ],
   "source": [
    "f.read(5)"
   ]
  },
  {
   "cell_type": "code",
   "execution_count": 93,
   "metadata": {},
   "outputs": [
    {
     "name": "stdout",
     "output_type": "stream",
     "text": [
      "5\n"
     ]
    }
   ],
   "source": [
    "print(f.tell()) # konsa position he wo dikhata he"
   ]
  },
  {
   "cell_type": "code",
   "execution_count": 94,
   "metadata": {},
   "outputs": [
    {
     "name": "stdout",
     "output_type": "stream",
     "text": [
      "15\n"
     ]
    }
   ],
   "source": [
    "f.seek(15) # seek-position set hota he\n",
    "print(f.tell())"
   ]
  },
  {
   "cell_type": "code",
   "execution_count": 95,
   "metadata": {},
   "outputs": [
    {
     "name": "stdout",
     "output_type": "stream",
     "text": [
      "HelloLJIETNeel\n",
      "XYZ\n",
      "PQRHello Everyone\n",
      "Hello Everyone\n",
      "Hello Everyone\n"
     ]
    }
   ],
   "source": [
    "with open(\"abc.txt\",\"r\") as f:\n",
    "    d=f.read()\n",
    "    print(d)"
   ]
  },
  {
   "cell_type": "code",
   "execution_count": 96,
   "metadata": {},
   "outputs": [
    {
     "name": "stdout",
     "output_type": "stream",
     "text": [
      "True\n"
     ]
    }
   ],
   "source": [
    "print(f.closed)"
   ]
  },
  {
   "cell_type": "code",
   "execution_count": 119,
   "metadata": {},
   "outputs": [],
   "source": [
    "#WAP TO CREATE DAYS.TXT FILES WRITE ALL 7 DAYS INTO FILE PRINT THE DATA OF FILE ON CONSOLE.\n",
    "#COUNT THE NO OF LINES\n",
    "f=open(\"Days.txt\",\"w+\")"
   ]
  },
  {
   "cell_type": "code",
   "execution_count": 120,
   "metadata": {},
   "outputs": [
    {
     "data": {
      "text/plain": [
       "56"
      ]
     },
     "execution_count": 120,
     "metadata": {},
     "output_type": "execute_result"
    }
   ],
   "source": [
    "f.write(\"Monday\\nTuesday\\nWednesday\\nThursday\\nFriday\\nSaturday\\nSunday\")"
   ]
  },
  {
   "cell_type": "code",
   "execution_count": 121,
   "metadata": {},
   "outputs": [],
   "source": [
    "f.close()"
   ]
  },
  {
   "cell_type": "code",
   "execution_count": 122,
   "metadata": {},
   "outputs": [
    {
     "name": "stdout",
     "output_type": "stream",
     "text": [
      "Monday\n",
      "Tuesday\n",
      "Wednesday\n",
      "Thursday\n",
      "Friday\n",
      "Saturday\n",
      "Sunday\n",
      "No Of Lines:  7\n"
     ]
    }
   ],
   "source": [
    "with open(\"Days.txt\",\"r\") as f:\n",
    "    d=f.read()\n",
    "    print(d)\n",
    "    \n",
    "f=open(\"Days.txt\",\"r\")\n",
    "c=0\n",
    "for i in f:\n",
    "    c+=1\n",
    "print(\"No Of Lines: \",c)"
   ]
  },
  {
   "cell_type": "code",
   "execution_count": 137,
   "metadata": {},
   "outputs": [
    {
     "name": "stdout",
     "output_type": "stream",
     "text": [
      "Monday\n",
      "\n",
      "Wednesday\n",
      "\n",
      "Friday\n",
      "\n",
      "Sunday\n"
     ]
    }
   ],
   "source": [
    "#PRINT ODD NO OF LINES OF YOUR FILE.\n",
    "f=open(\"Days.txt\",\"r\")\n",
    "d=f.readlines()\n",
    "d1=d[::2]\n",
    "for i in d1:\n",
    "    print(i)"
   ]
  },
  {
   "cell_type": "code",
   "execution_count": 136,
   "metadata": {},
   "outputs": [
    {
     "name": "stdout",
     "output_type": "stream",
     "text": [
      "Enter Your Name: LALLU\n",
      "ENter Your Age: 10\n"
     ]
    }
   ],
   "source": [
    "#WAP TO ASK USER NAME AND AGE AND WRITE IT INTO THE FILE AND PRINT ON CONSOLE.\n",
    "f=open(\"User.txt\",\"a\")\n",
    "f.write(\"\\n\")\n",
    "f.write(input(\"Enter Your Name: \"))\n",
    "f.write(\"\\n\")\n",
    "f.write(input(\"Enter Your Age: \"))\n",
    "f.close()"
   ]
  },
  {
   "cell_type": "code",
   "execution_count": 3,
   "metadata": {},
   "outputs": [],
   "source": [
    "# WAP in file 1 and file 2 read both files data and write that data into new file\n",
    "\n",
    "f1=open(\"file1.txt\",\"a+\")\n",
    "f2=open(\"file2.txt\",\"a+\")\n",
    "list=[\"1\\n\",\"2\\n\",\"3\\n\",\"4\\n\"]\n",
    "f1.writelines(list)\n",
    "list2=[\"A\\n\",\"B\\n\",\"C\\n\",\"D\\n\",\"E\\n\",\"F\"]\n",
    "f2.writelines(list2)\n",
    "f1.close()\n",
    "f2.close()\n",
    "\n",
    "f1=open(\"file1.txt\",\"r\")\n",
    "f2=open(\"file2.txt\",\"r\")\n",
    "f3=open(\"file3.txt\",\"a+\")\n",
    "\n",
    "f3.writelines(f1.readlines())\n",
    "f3.writelines(f2.readlines())\n",
    "\n",
    "\n",
    "f3.close()"
   ]
  },
  {
   "cell_type": "code",
   "execution_count": 11,
   "metadata": {},
   "outputs": [
    {
     "name": "stdout",
     "output_type": "stream",
     "text": [
      "1\n",
      "A\n",
      "2\n",
      "B\n",
      "3\n",
      "C\n",
      "4\n",
      "D\n",
      "E\n",
      "F\n"
     ]
    }
   ],
   "source": [
    "f1=open(\"file1.txt\",\"r\")\n",
    "f2=open(\"file2.txt\",\"r\")\n",
    "f3=open(\"file3.txt\",\"w\")\n",
    "d1=f1.readlines()\n",
    "d2=f2.readlines()\n",
    "max_len=max(len(d1),len(d2))\n",
    "for i in range(max_len):\n",
    "    if len(d1)>i:\n",
    "        f3.write(d1[i])\n",
    "    if len(d2)>i:\n",
    "        f3.write(d2[i])\n",
    "f1.close()\n",
    "f2.close()\n",
    "f3.close()\n",
    "f=open(\"file3.txt\")\n",
    "d=f.read()\n",
    "print(d)\n",
    "f.close()"
   ]
  },
  {
   "cell_type": "code",
   "execution_count": 1,
   "metadata": {},
   "outputs": [
    {
     "name": "stdout",
     "output_type": "stream",
     "text": [
      "Enter File Name: detail.txt\n",
      "Leucojum vernum\t\n",
      " Leucojum vernum, commonly called the spring snowflake, is a species of flowering plant in the family Amaryllidaceae. It is native to central and southern Europe from Belgium to Ukraine. L. vernum is cultivated as an ornamental plant for its white flowers in spring. The plant multiplies in favourable conditions to form clumps. Each plant bears a single white flower with greenish marks near the tip of the tepal, on a stem about 10 to 20 centimetres (3.9 to 7.9 inches) tall, occasionally more. The Latin specific epithet vernum means 'relating to spring'; its close relative, L. aestivum, blooms in summer. This photograph of a L. vernum flower, taken in Bamberg, Germany, was focus-stacked from 32 separate images.\n",
      " \n",
      " Photograph credit: Reinhold MÃ¶ller\n",
      " \n",
      " Recently featured: Jean RitchieUgandan kobGreat Yarmouth Town Hall\n",
      " ArchiveMore featured pictures\n",
      " For other people with similar names, see Golding-Bird.\n",
      " image of Golding Bird\n",
      " Golding Bird, 1840[1]\n",
      " Golding Bird (9 December 1814 â€“ 27 October 1854) was a British medical doctor and a Fellow of the Royal College of Physicians. He became a great authority on kidney diseases and published a comprehensive paper on urinary deposits in 1844. He was also notable for his work in related sciences, especially the medical uses of electricity and electrochemistry. From 1836, he lectured at Guy's Hospital, a well-known teaching hospital in London and now part of King's College London, and published a popular textbook on science for medical students called Elements of Natural Philosophy.\n",
      " \n",
      " Having developed an interest in chemistry while still a child, largely through self-study, Bird was far enough advanced to deliver lectures to his fellow pupils at school. He later applied this knowledge to medicine and did much research on the chemistry of urine and of kidney stones. In 1842, he was the first to describe oxaluria, a condition which leads to the formation of a particular kind of stone.\n",
      " \n",
      " Bird, who was a member of the London Electrical Society, was innovative in the field of the medical use of electricity, designing much of his own equipment. In his time, electrical treatment had acquired a bad name in the medical profession through its widespread use by quack practitioners. Bird made efforts to oppose this quackery, and was instrumental in bringing medical electrotherapy into the mainstream. He was quick to adopt new instruments of all kinds; he invented a new variant of the Daniell cell in 1837 and made important discoveries in electrometallurgy with it. He was not only innovative in the electrical field, but he also designed a flexible stethoscope, and in 1840 published the first description of such an instrument.\n",
      " \n",
      " A devout Christian, Bird believed Bible study and prayer were just as important to medical students as their academic studies. He endeavoured to promote Christianity among medical students and encouraged other professionals to do likewise. To this end, Bird was responsible for the founding of the Christian Medical Association, although it did not become active until after his death. Bird had lifelong poor health and died at the age of 39.\n",
      " \n",
      " Life and career\n",
      " Bird was born in Downham, Norfolk, England, on 9 December 1814. His father (also named Golding Bird) had been an officer in the Inland Revenue in Ireland, and his mother, Marrianne, was Irish. He was precocious and ambitious,[2] but childhood rheumatic fever and endocarditis left him with poor posture and lifelong frail health. He received a classical education when he was sent with his brother Frederic to stay with a clergyman in Wallingford, where he developed a lifelong habit of self-study. From the age of 12, he was educated in London, at a private school that did not promote science and provided only a classical education. Bird, who seems to have been far ahead of his teachers in science, gave lectures in chemistry and botany to his fellow pupils. He had four younger siblings, of whom his brother Frederic also became a physician and published on botany.[3][4]\n",
      " \n",
      " In 1829, when he was 14, Bird left school to serve an apprenticeship with the apothecary William Pretty in Burton Crescent, London. He completed it in 1833 and was licensed to practise by the Worshipful Society of Apothecaries at Apothecaries' Hall in 1836. He received this licence without examination because of the reputation he had gained as a student at Guy's, the London teaching hospital where he had become a medical student in 1832 while still working at his apprenticeship. At Guy's he was influenced by Thomas Addison, who recognised his talents early on. Bird was an ambitious and very capable student. Early in his career he became a Fellow of the Senior Physical Society, for which a thesis was required. He received prizes for medicine, obstetrics, and ophthalmic surgery at Guy's and the silver medal for botany at Apothecaries' Hall. Around 1839 to 1840, he worked on breast disease at Guy's as an assistant to Sir Astley Cooper.[5]\n",
      " \n",
      " Bird graduated from the University of St Andrews with an MD in 1838 and an MA in 1840 while continuing to work in London. St Andrews required no residence or examination for the MD. Bird obtained his degree by submitting testimonials from qualified colleagues, which was common practice at the time. Once qualified in 1838, at the age of 23, he entered general practice with a surgery at 44 Seymour Street, Euston Square, London, but was unsuccessful at first because of his youth. In the same year, however, he became physician to the Finsbury Dispensary, a post he held for five years. By 1842, he had an income of Â£1000 a year from his private practice. Adjusted for inflation, this amounts to a spending power of about Â£119,000 now.[6] At the end of his career, his income was just under Â£6000. He became a licentiate of the Royal College of Physicians in 1840, and a fellow in 1845.[7]\n",
      " \n",
      " enter 'q' to quit or press any key to continue: q\n"
     ]
    }
   ],
   "source": [
    "#WAP A PAGER PROGRAM YOUR SOLUTION SHOULD PROMPT FOR FILE NAME AND DISPLAY THE TEXT FILE 25 LINES AT A TIME POSING EACH TIME TO \n",
    "#ASK THE USER TO PRESS A KEY TO CONTINUE OR QUIT \n",
    "fname=input(\"Enter File Name: \")\n",
    "f=open(fname)\n",
    "for i,j in enumerate(f):\n",
    "    if i%25==0 and i:\n",
    "        x=input(\"enter 'q' to quit or press any key to continue: \")\n",
    "        if x.lower()=='q':\n",
    "            break\n",
    "    else:\n",
    "        print(j,end=\" \")"
   ]
  },
  {
   "cell_type": "code",
   "execution_count": 3,
   "metadata": {},
   "outputs": [
    {
     "name": "stdout",
     "output_type": "stream",
     "text": [
      "Line No:  1\n",
      "Index No:  12\n"
     ]
    }
   ],
   "source": [
    "#WAP TO COMPARE 2 FILES GIVE THE LINE AND COLUM NO FROM WHERE THE FIRST DIFFERENCE OCCURENCE \n",
    "f1=open(\"file1.txt\",\"r\")\n",
    "f2=open(\"file2.txt\",\"r\")\n",
    "d1=f1.readlines()\n",
    "d2=f2.readlines()\n",
    "for i,j in enumerate(d1):\n",
    "    if (j!=d2[i]):\n",
    "        for index,char in enumerate(j):\n",
    "            if (char!=d2[i][index]):\n",
    "                print(\"Line No: \",i+1)\n",
    "                print(\"Index No: \",index)\n",
    "                break\n",
    "    break\n",
    "f1.close()\n",
    "f2.close()"
   ]
  },
  {
   "cell_type": "code",
   "execution_count": 9,
   "metadata": {},
   "outputs": [
    {
     "name": "stdout",
     "output_type": "stream",
     "text": [
      "friends are\n",
      "we are nothing \n"
     ]
    }
   ],
   "source": [
    "#WAP TO REMOVE # SIGN FROM THE TEXT\n",
    "f=open(\"file3.txt\")\n",
    "while(True):\n",
    "    d=f.readline()\n",
    "    if len(d)!=0:\n",
    "        if d[0]=='#':\n",
    "            continue\n",
    "        else:\n",
    "            if '#' in d:\n",
    "                for i in range(1,len(d)):\n",
    "                    if d[i]=='#':\n",
    "                        print(d[0:i])\n",
    "            else:\n",
    "                print(d)\n",
    "    else:\n",
    "        break"
   ]
  },
  {
   "cell_type": "code",
   "execution_count": 10,
   "metadata": {},
   "outputs": [
    {
     "name": "stdout",
     "output_type": "stream",
     "text": [
      "In terms of length, word count is typically anywhere from to for short stories\n",
      "however some works classified as short stories have up to words. Stories of\n",
      "fewer than words are sometimes referred to as short short stories or flash\n",
      "fiction Short stories have no set length. In terms of word count, there is no\n",
      "official demarcation between an anecdote, a short story, and a novel. Rather,\n",
      "the form's parameters are given by the rhetorical and practical context in\n",
      "which a given story is produced and considered so that what constitutes a short\n",
      "story may differ between genres, countries, eras, and commentators.Like the\n",
      "novel, the short story's predominant shape reflects the demands of the\n",
      "available markets for publication, and the evolution of the form seems closely\n",
      "tied to the evolution of the publishing industry and the submission guidelines\n",
      "of its constituent houses.[13]As a point of reference for the genre writer, the\n",
      "Science Fiction and Fantasy Writers of America define short story length in the\n",
      "Nebula Awards for science fiction submission guidelines as having fewer than\n",
      "7,500 wordsShort stories date back to oral storytelling traditions which\n",
      "originally produced epics such as the Ramayana, the Mahabharata, and Homer's\n",
      "Iliad and Odyssey. Oral narratives were often told in the form of rhyming or\n",
      "rhythmic verse, often including recurring sections or, in the case of Homer,\n",
      "Homeric epithets. Such stylistic devices often acted as mnemonics for easier\n",
      "recall, rendition, and adaptation of the story. While the overall arc of the\n",
      "tale was told over the course of several performances, short sections of verse\n",
      "could focus on individual narratives that were the duration of a single\n",
      "telling. It may be helpful to classify such sections as oral short\n",
      "stories.Another ancient form of short story popular during the Roman Empire was\n",
      "the anecdote, a brief realistic narrative that embodies a point. Many surviving\n",
      "Roman anecdotes were collected in the 13th or 14th century as the Gesta\n",
      "Romanorum. Anecdotes remained popular throughout Europe well into the 18th\n",
      "century with the publication of the fictional anecdotal letters of Sir Roger de\n",
      "Coverley.In India, there is a rich heritage of ancient folktales as well as a\n",
      "compiled body of short fiction which shaped the sensibility of modern Indian\n",
      "short story. Some of the famous Sanskrit collections of legends, folktales,\n",
      "fairy tales, and fables are Panchatantra, Hitopadesha and Kathasaritsagara.\n",
      "Jataka tales, originally written in Pali, is a compilation of tales concerning\n",
      "the previous births of Lord Gautama Buddha. The Frame story, also known as the\n",
      "frame narrative or story within a story, is a narrative technique that probably\n",
      "originated in ancient Indian works such as Panchatantra.The evolution of\n",
      "printing technologies and periodical editions were among the factors\n",
      "contributing to the increasing importance of short story publications.\n",
      "Pioneering the rules of the genre in the Western canon were, among others,\n",
      "Rudyard Kipling (United Kingdom), Anton Chekhov (Russia), Guy de Maupassant\n",
      "(France), Rabindranath Tagore (India and Bangladesh), Manuel GutiÃ©rrez NÃ¡jera\n",
      "(Mexico) and RubÃ©n DarÃ­o (Nicaragua).Early examples of short stories were\n",
      "published separately between 1790 and 1810, but the first true collections of\n",
      "short stories appeared between 1810 and 1830 in several countries.[17]The first\n",
      "short stories in the United Kingdom were gothic tales like Richard Cumberland's\n",
      "\"remarkable narrative\", \"The Poisoner of Montremos\" (1791).[18] Novelists such\n",
      "as Sir Walter Scott and Charles Dickens also wrote influential short stories\n",
      "during this time. Germany soon followed the United Kingdom's example by\n",
      "producing short stories; the first collection of short stories was by Heinrich\n",
      "von Kleist in 1810 and 1811. In the United States, Washington Irving was\n",
      "responsible for creating some of the first short stories of American origin,\n",
      "\"The Legend of Sleepy Hollow\" and \"Rip Van Winkle\".[19]\n",
      "\n"
     ]
    }
   ],
   "source": [
    "#WAP FOR TEXT PROCCESSING CREATE A PROGRAM TO SCAN A TEXT FILE FOR ALL LINES LONGER TAHN 80 CHARACTERS FOR EACH OF THE \n",
    "#OFFENDING LINE FIND THE CLOSEST WORD BEFORE 80 CHARCTERS AND BREAK THE LINE THEIR INSERTING THE REMINING TEXT TO THE NEXT LINE\n",
    "#WHEN U ARE DONE THEIR SHOULD BE NO LINE LONGER THEN 80 CHARCTERS \n",
    "\n",
    "f=open(\"detail.txt\")\n",
    "l=[]\n",
    "def process(a):\n",
    "    if len(a)<80:\n",
    "        l.append(a)\n",
    "        return\n",
    "    else:\n",
    "        if a[79]==' ':\n",
    "            l.append(a[:80])\n",
    "            process(a[80:])\n",
    "        elif a[79]!=' ':\n",
    "            index=a.rfind(' ',0,79)\n",
    "            l.append(a[:index+1])\n",
    "            process(a[index+1:])\n",
    "#f1=open(\"ab1.txt\",\"w\")\n",
    "for x in f:\n",
    "    if len(x)>80:\n",
    "        process(x)\n",
    "    else:\n",
    "        l.append(x)\n",
    "    #f1.write(x)\n",
    "f1=open(\"ab1.txt\",\"w\")\n",
    "for i in l:\n",
    "    if i[-1]==' ':\n",
    "        i=i[:-1]+\"\\n\"\n",
    "    else:\n",
    "        i=i+\"\\n\"\n",
    "    f1.write(i)\n",
    "f2=open(\"ab1.txt\")\n",
    "d=f2.read()\n",
    "print(d)"
   ]
  },
  {
   "cell_type": "code",
   "execution_count": 23,
   "metadata": {},
   "outputs": [
    {
     "name": "stdout",
     "output_type": "stream",
     "text": [
      "['In', 'terms', 'of', 'length,', 'word', 'count', 'is', 'typically', 'anywhere', 'from', 'to', 'for', 'short', 'stories', 'however', 'some', 'works', 'classified', 'as', 'short', 'stories', 'have', 'up', 'to', 'words.', 'Stories', 'of', 'fewer', 'than', 'words', 'are', 'sometimes', 'referred', 'to', 'as', 'short', 'short', 'stories', 'or', 'flash', 'fiction', 'Short', 'stories', 'have', 'no', 'set', 'length.', 'In', 'terms', 'of', 'word', 'count,', 'there', 'is', 'no', 'official', 'demarcation', 'between', 'an', 'anecdote,', 'a', 'short', 'story,', 'and', 'a', 'novel.', 'Rather,', 'the', \"form's\", 'parameters', 'are', 'given', 'by', 'the', 'rhetorical', 'and', '']\n",
      "2\n"
     ]
    }
   ],
   "source": [
    "#WAP TO DISPLAY THE OCCURENCE OF WORD 'THE'\n",
    "count=0\n",
    "f=open(\"detail.txt\")\n",
    "data=f.read()\n",
    "s=data.split(\" \")\n",
    "print(s)\n",
    "for i in s:\n",
    "    if (i==\"the\" or i==\"The\"):\n",
    "        count+=1\n",
    "print(count)"
   ]
  },
  {
   "cell_type": "code",
   "execution_count": 23,
   "metadata": {},
   "outputs": [
    {
     "name": "stdout",
     "output_type": "stream",
     "text": [
      "The Most Repetative Email is : cwen@iupui.edu with 5 Occurence.\n"
     ]
    }
   ],
   "source": [
    "#WAP TO  READ MBOX-SHORT.TXT FIND A LINE THAT STARTWITH 'FROM' AND LIST OUT EMAIL ID \n",
    "#WAP TO FIND EMAIL ID WHO HAS SEND MAXIMUM TIME SEND\n",
    "email_counts={}\n",
    "count=0\n",
    "max_count=0\n",
    "max_email=\"\"\n",
    "f=open(\"mbox-short.txt\",\"r\")\n",
    "data=f.readlines()\n",
    "for i in data:\n",
    "    if i.startswith(\"From:\"):\n",
    "        words=i.split()\n",
    "        count+=1\n",
    "       # print(words[1])\n",
    "        email=words[1]\n",
    "        \n",
    "        if email in email_counts:\n",
    "            email_counts[email]+=1\n",
    "        else:\n",
    "            email_counts[email]=1\n",
    "            \n",
    "for email,count in email_counts.items():\n",
    "    if count>max_count:\n",
    "        max_count=count\n",
    "        max_email=email\n",
    "        \n",
    "# print(\"Total Emails: \",count)\n",
    "# print(max_email)\n",
    "print(f\"The Most Repetative Email is : {max_email} with {max_count} Occurence.\")"
   ]
  },
  {
   "cell_type": "code",
   "execution_count": 50,
   "metadata": {},
   "outputs": [
    {
     "name": "stdout",
     "output_type": "stream",
     "text": [
      "['walter', 'melon', 'melon@gmail.com.edu', '447-3141']\n",
      "Walter Melon melon@gmail.com.edu 301-447-3141\n"
     ]
    }
   ],
   "source": [
    "#O/P Walter Melon melon@gmail.com.edu 301-447-3141\n",
    "f=open(\"student.txt\",\"r\")\n",
    "data=f.readlines()\n",
    "for i in data:\n",
    "    words=i.split()\n",
    "print(words)\n",
    "words[0]=words[0].title()\n",
    "words[1]=words[1].title()\n",
    "words[3]=\"301-\"+words[3]\n",
    "w=\" \".join(words)\n",
    "print(w)"
   ]
  },
  {
   "cell_type": "code",
   "execution_count": 1,
   "metadata": {},
   "outputs": [
    {
     "name": "stdout",
     "output_type": "stream",
     "text": [
      "ENter Line Number: 2\n",
      "we are friends\n",
      "good are friends\n",
      "friends are honest"
     ]
    }
   ],
   "source": [
    "f=open(\"friends.txt\",\"r\")\n",
    "data=f.readlines()\n",
    "ln=int(input(\"ENter Line Number: \"))\n",
    "\n",
    "w=data[ln-1].split()\n",
    "a=w[::-1]\n",
    "data[ln-1]=\" \".join(a)+\"\\n\"\n",
    "\n",
    "for line in data:\n",
    "    print(line,end=\"\")"
   ]
  },
  {
   "cell_type": "code",
   "execution_count": 14,
   "metadata": {},
   "outputs": [
    {
     "name": "stdout",
     "output_type": "stream",
     "text": [
      "{'friends are honest', 'we are friends', 'friends are good'}\n"
     ]
    }
   ],
   "source": [
    "#wap to eliminate repeted lines from file\n",
    "f=open(\"friends.txt\",\"r\")\n",
    "cleaned_lines = {line.rstrip('\\n') for line in f}  # Remove newline characters explicitly\n",
    "print(cleaned_lines)"
   ]
  },
  {
   "cell_type": "code",
   "execution_count": null,
   "metadata": {},
   "outputs": [],
   "source": []
  },
  {
   "cell_type": "code",
   "execution_count": null,
   "metadata": {},
   "outputs": [],
   "source": []
  }
 ],
 "metadata": {
  "kernelspec": {
   "display_name": "Python 3",
   "language": "python",
   "name": "python3"
  },
  "language_info": {
   "codemirror_mode": {
    "name": "ipython",
    "version": 3
   },
   "file_extension": ".py",
   "mimetype": "text/x-python",
   "name": "python",
   "nbconvert_exporter": "python",
   "pygments_lexer": "ipython3",
   "version": "3.8.5"
  }
 },
 "nbformat": 4,
 "nbformat_minor": 4
}
